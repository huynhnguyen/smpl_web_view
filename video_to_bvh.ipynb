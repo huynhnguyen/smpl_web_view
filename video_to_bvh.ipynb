{
 "cells": [
  {
   "cell_type": "markdown",
   "metadata": {
    "colab_type": "text",
    "id": "P__hA1g6HzpZ"
   },
   "source": [
    "##Initial imports, install, initializations \n",
    "####Be patient it'll take some time :)"
   ]
  },
  {
   "cell_type": "code",
   "execution_count": 1,
   "metadata": {
    "colab": {},
    "colab_type": "code",
    "id": "j_YTs3eEFXjW"
   },
   "outputs": [
    {
     "name": "stdout",
     "output_type": "stream",
     "text": [
      "Cloning into 'keras_Realtime_Multi-Person_Pose_Estimation'...\n",
      "remote: Enumerating objects: 196, done.\u001b[K\n",
      "remote: Total 196 (delta 0), reused 0 (delta 0), pack-reused 196\u001b[K\n",
      "Receiving objects: 100% (196/196), 29.49 MiB | 1.70 MiB/s, done.\n",
      "Resolving deltas: 100% (80/80), done.\n",
      "\u001b[33mDEPRECATION: Python 2.7 will reach the end of its life on January 1st, 2020. Please upgrade your Python as Python 2.7 won't be maintained after that date. A future version of pip will drop support for Python 2.7.\u001b[0m\n",
      "Collecting configobj\n",
      "  Downloading https://files.pythonhosted.org/packages/64/61/079eb60459c44929e684fa7d9e2fdca403f67d64dd9dbac27296be2e0fab/configobj-5.0.6.tar.gz\n",
      "Requirement already satisfied: six in ./venv/lib/python2.7/site-packages (from configobj) (1.12.0)\n",
      "Building wheels for collected packages: configobj\n",
      "  Building wheel for configobj (setup.py) ... \u001b[?25ldone\n",
      "\u001b[?25h  Stored in directory: /home/huynhnguyen/.cache/pip/wheels/f1/e4/16/4981ca97c2d65106b49861e0b35e2660695be7219a2d351ee0\n",
      "Successfully built configobj\n",
      "Installing collected packages: configobj\n",
      "Successfully installed configobj-5.0.6\n",
      "E: Could not open lock file /var/lib/dpkg/lock-frontend - open (13: Permission denied)\n",
      "E: Unable to acquire the dpkg frontend lock (/var/lib/dpkg/lock-frontend), are you root?\n",
      "E: Could not open lock file /var/lib/dpkg/lock-frontend - open (13: Permission denied)\n",
      "E: Unable to acquire the dpkg frontend lock (/var/lib/dpkg/lock-frontend), are you root?\n",
      "E: Could not open lock file /var/lib/dpkg/lock-frontend - open (13: Permission denied)\n",
      "E: Unable to acquire the dpkg frontend lock (/var/lib/dpkg/lock-frontend), are you root?\n",
      "Cloning into 'hmr'...\n",
      "remote: Enumerating objects: 3, done.\u001b[K\n",
      "remote: Counting objects: 100% (3/3), done.\u001b[K\n",
      "remote: Compressing objects: 100% (3/3), done.\u001b[K\n",
      "remote: Total 201 (delta 0), reused 0 (delta 0), pack-reused 198\u001b[K\n",
      "Receiving objects: 100% (201/201), 4.02 MiB | 1.25 MiB/s, done.\n",
      "Resolving deltas: 100% (78/78), done.\n",
      "--2019-06-03 13:58:31--  https://people.eecs.berkeley.edu/~kanazawa/cachedir/hmr/models.tar.gz\n",
      "Resolving people.eecs.berkeley.edu (people.eecs.berkeley.edu)... 128.32.189.73\n",
      "Connecting to people.eecs.berkeley.edu (people.eecs.berkeley.edu)|128.32.189.73|:443... connected.\n",
      "HTTP request sent, awaiting response... 200 OK\n",
      "Length: 385846404 (368M) [application/x-gzip]\n",
      "Saving to: ‘models.tar.gz’\n",
      "\n",
      "models.tar.gz       100%[===================>] 367,97M   151KB/s    in 36m 3s  \n",
      "\n",
      "2019-06-03 14:34:38 (174 KB/s) - ‘models.tar.gz’ saved [385846404/385846404]\n",
      "\n",
      "\u001b[33mDEPRECATION: Python 2.7 will reach the end of its life on January 1st, 2020. Please upgrade your Python as Python 2.7 won't be maintained after that date. A future version of pip will drop support for Python 2.7.\u001b[0m\n",
      "Requirement already satisfied: pip>=9.0 in ./venv/lib/python2.7/site-packages (from -r hmr/requirements.txt (line 2)) (19.1.1)\n",
      "Collecting scipy (from -r hmr/requirements.txt (line 3))\n",
      "  Using cached https://files.pythonhosted.org/packages/81/39/f1457091d0a45a84a2bd7815e2cf6bd45d4fe240728e9ed567cbb17c8abe/scipy-1.2.1-cp27-cp27mu-manylinux1_x86_64.whl\n",
      "Collecting numpy (from -r hmr/requirements.txt (line 4))\n",
      "  Using cached https://files.pythonhosted.org/packages/1f/c7/198496417c9c2f6226616cff7dedf2115a4f4d0276613bab842ec8ac1e23/numpy-1.16.4-cp27-cp27mu-manylinux1_x86_64.whl\n",
      "Collecting opendr (from -r hmr/requirements.txt (line 5))\n",
      "\u001b[?25l  Downloading https://files.pythonhosted.org/packages/52/7e/937b09016c1b2c0f59629584429d3c63d2d50878464c5d3afd47444b7953/opendr-0.78.tar.gz (581kB)\n",
      "\u001b[K     |████████████████████████████████| 583kB 1.2MB/s eta 0:00:01\n",
      "\u001b[?25h\u001b[31m    ERROR: Complete output from command python setup.py egg_info:\u001b[0m\n",
      "\u001b[31m    ERROR: Traceback (most recent call last):\n",
      "      File \"<string>\", line 1, in <module>\n",
      "      File \"/tmp/pip-install-Amlk93/opendr/setup.py\", line 9, in <module>\n",
      "        import numpy\n",
      "    ImportError: No module named numpy\n",
      "    ----------------------------------------\u001b[0m\n",
      "\u001b[31mERROR: Command \"python setup.py egg_info\" failed with error code 1 in /tmp/pip-install-Amlk93/opendr/\u001b[0m\n",
      "--2019-06-03 14:34:47--  https://www.dropbox.com/s/llpxd14is7gyj0z/model.h5\n",
      "Resolving www.dropbox.com (www.dropbox.com)... 162.125.82.1, 2620:100:6032:1::a27d:5201\n",
      "Connecting to www.dropbox.com (www.dropbox.com)|162.125.82.1|:443... connected.\n",
      "HTTP request sent, awaiting response... 301 Moved Permanently\n",
      "Location: /s/raw/llpxd14is7gyj0z/model.h5 [following]\n",
      "--2019-06-03 14:34:47--  https://www.dropbox.com/s/raw/llpxd14is7gyj0z/model.h5\n",
      "Reusing existing connection to www.dropbox.com:443.\n",
      "HTTP request sent, awaiting response... 302 Found\n",
      "Location: https://uc6e9072e4a50a1fa6c76cbd4596.dl.dropboxusercontent.com/cd/0/inline/AiEDe1QmQQk4AEH3gOsc7jaqUlNbeJH5cJqNxZRSEkf46nZDgLuDwFz33UDf4-LzHIll04l-NO20WjnNQOoArByaQyRhGk-FU4B38oC-GQe-lA/file# [following]\n",
      "--2019-06-03 14:34:47--  https://uc6e9072e4a50a1fa6c76cbd4596.dl.dropboxusercontent.com/cd/0/inline/AiEDe1QmQQk4AEH3gOsc7jaqUlNbeJH5cJqNxZRSEkf46nZDgLuDwFz33UDf4-LzHIll04l-NO20WjnNQOoArByaQyRhGk-FU4B38oC-GQe-lA/file\n",
      "Resolving uc6e9072e4a50a1fa6c76cbd4596.dl.dropboxusercontent.com (uc6e9072e4a50a1fa6c76cbd4596.dl.dropboxusercontent.com)... 162.125.82.6, 2620:100:6032:6::a27d:5206\n",
      "Connecting to uc6e9072e4a50a1fa6c76cbd4596.dl.dropboxusercontent.com (uc6e9072e4a50a1fa6c76cbd4596.dl.dropboxusercontent.com)|162.125.82.6|:443... connected.\n",
      "HTTP request sent, awaiting response... 200 OK\n",
      "Length: 209602136 (200M) [text/plain]\n",
      "Saving to: ‘./keras/model.h5’\n",
      "\n",
      "model.h5             17%[==>                 ]  35,12M  2,60MB/s    eta 98s    ^C\n"
     ]
    },
    {
     "ename": "ModuleNotFoundError",
     "evalue": "No module named 'keras.models'",
     "output_type": "error",
     "traceback": [
      "\u001b[0;31m---------------------------------------------------------------------------\u001b[0m",
      "\u001b[0;31mModuleNotFoundError\u001b[0m                       Traceback (most recent call last)",
      "\u001b[0;32m<ipython-input-1-f8e1d6b71c86>\u001b[0m in \u001b[0;36m<module>\u001b[0;34m\u001b[0m\n\u001b[1;32m     22\u001b[0m \u001b[0mget_ipython\u001b[0m\u001b[0;34m(\u001b[0m\u001b[0;34m)\u001b[0m\u001b[0;34m.\u001b[0m\u001b[0msystem\u001b[0m\u001b[0;34m(\u001b[0m\u001b[0;34m'mkdir sample_images'\u001b[0m\u001b[0;34m)\u001b[0m\u001b[0;34m\u001b[0m\u001b[0;34m\u001b[0m\u001b[0m\n\u001b[1;32m     23\u001b[0m \u001b[0;34m\u001b[0m\u001b[0m\n\u001b[0;32m---> 24\u001b[0;31m \u001b[0mexec\u001b[0m\u001b[0;34m(\u001b[0m\u001b[0mopen\u001b[0m\u001b[0;34m(\u001b[0m\u001b[0;34m'model_load.py'\u001b[0m\u001b[0;34m)\u001b[0m\u001b[0;34m.\u001b[0m\u001b[0mread\u001b[0m\u001b[0;34m(\u001b[0m\u001b[0;34m)\u001b[0m\u001b[0;34m)\u001b[0m\u001b[0;34m\u001b[0m\u001b[0;34m\u001b[0m\u001b[0m\n\u001b[0m\u001b[1;32m     25\u001b[0m \u001b[0mget_ipython\u001b[0m\u001b[0;34m(\u001b[0m\u001b[0;34m)\u001b[0m\u001b[0;34m.\u001b[0m\u001b[0msystem\u001b[0m\u001b[0;34m(\u001b[0m\u001b[0;34m'pip2 install opendr==0.77'\u001b[0m\u001b[0;34m)\u001b[0m\u001b[0;34m\u001b[0m\u001b[0;34m\u001b[0m\u001b[0m\n",
      "\u001b[0;32m<string>\u001b[0m in \u001b[0;36m<module>\u001b[0;34m\u001b[0m\n",
      "\u001b[0;31mModuleNotFoundError\u001b[0m: No module named 'keras.models'"
     ]
    }
   ],
   "source": [
    "!git clone https://github.com/Dene33/keras_Realtime_Multi-Person_Pose_Estimation.git\n",
    "!pip install configobj\n",
    "!apt install ffmpeg\n",
    "!apt-get install blender\n",
    "\n",
    "!apt install python2.7 python-pip\n",
    "!git clone https://github.com/Dene33/hmr.git\n",
    "!wget https://people.eecs.berkeley.edu/~kanazawa/cachedir/hmr/models.tar.gz && tar -xf models.tar.gz\n",
    "!mv models hmr/\n",
    "!pip2 install -r hmr/requirements.txt\n",
    "!mkdir hmr/output\n",
    "!mkdir hmr/output/csv\n",
    "!mkdir hmr/output/images\n",
    "!mkdir hmr/output/csv_joined\n",
    "!mkdir hmr/output/bvh_animation\n",
    "\n",
    "import os\n",
    "os.chdir('keras_Realtime_Multi-Person_Pose_Estimation')\n",
    "!bash model/get_keras_model.sh\n",
    "!mkdir sample_jsons\n",
    "!mkdir sample_videos\n",
    "!mkdir sample_images\n",
    "\n",
    "exec(open('model_load.py').read())\n",
    "!pip2 install opendr==0.77"
   ]
  },
  {
   "cell_type": "markdown",
   "metadata": {
    "colab_type": "text",
    "id": "XNg9osekfr9o"
   },
   "source": [
    "##Upload video"
   ]
  },
  {
   "cell_type": "code",
   "execution_count": 0,
   "metadata": {
    "colab": {},
    "colab_type": "code",
    "id": "20WUpg6ffraY"
   },
   "outputs": [],
   "source": [
    "#upload video\n",
    "exec(open('upload_videos.py').read())"
   ]
  },
  {
   "cell_type": "markdown",
   "metadata": {
    "colab_type": "text",
    "id": "gwTyO3683c08"
   },
   "source": [
    "##Process the video\n",
    "####<font color='green'>`24`</font> in `video_to_images.sh` stands for desired fps rate at which you want to convert video to images"
   ]
  },
  {
   "cell_type": "code",
   "execution_count": 0,
   "metadata": {
    "colab": {},
    "colab_type": "code",
    "id": "UIAyAmBJ3bJf"
   },
   "outputs": [],
   "source": [
    "#convert to images, specify fps rate\n",
    "!bash video_to_images.sh 24\n",
    "\n",
    "#2d pose estimation. For each image creates corresponding .json file with format\n",
    "#similar to output .json format of openpose (https://github.com/CMU-Perceptual-Computing-Lab/openpose)\n",
    "exec(open('2d_pose_estimation.py').read())\n",
    "\n",
    "#3d pose estimation\n",
    "os.chdir('..')\n",
    "!bash hmr/3dpose_estimate.sh\n",
    "\n",
    "#convert estimated .csv files to bvh\n",
    "!blender --background hmr/csv_to_bvh.blend -noaudio -P hmr/csv_to_bvh.py"
   ]
  },
  {
   "cell_type": "markdown",
   "metadata": {
    "colab_type": "text",
    "id": "nTjDp_WpOK2r"
   },
   "source": [
    "##Download .bvh"
   ]
  },
  {
   "cell_type": "code",
   "execution_count": 0,
   "metadata": {
    "colab": {},
    "colab_type": "code",
    "id": "GE3TrWCq6jP_"
   },
   "outputs": [],
   "source": [
    "from google.colab import files\n",
    "files.download('hmr/output/bvh_animation/estimated_animation.bvh')"
   ]
  },
  {
   "cell_type": "markdown",
   "metadata": {
    "colab_type": "text",
    "id": "e3mfmjKlWJxS"
   },
   "source": [
    "##Display results of 3d pose estimation (optional)"
   ]
  },
  {
   "cell_type": "code",
   "execution_count": 0,
   "metadata": {
    "colab": {},
    "colab_type": "code",
    "id": "sLFtmdXWVztJ"
   },
   "outputs": [],
   "source": [
    "from IPython.display import Image, display\n",
    "\n",
    "images = os.listdir('hmr/output/images')\n",
    "extensions = {\".jpg\", \".png\", \".gif\", \".bmp\", \".jpeg\"}\n",
    "\n",
    "for image in sorted(images):\n",
    "  for ext in extensions:\n",
    "    if image.endswith(ext):\n",
    "      display(Image('hmr/output/images/'+image, width=512))"
   ]
  },
  {
   "cell_type": "markdown",
   "metadata": {
    "colab_type": "text",
    "id": "3b7kJVtZfMj6"
   },
   "source": [
    "##Clear all the generated data if you want to process new video"
   ]
  },
  {
   "cell_type": "code",
   "execution_count": 0,
   "metadata": {
    "colab": {},
    "colab_type": "code",
    "id": "jIWBMk8rfMuB"
   },
   "outputs": [],
   "source": [
    "!rm keras_Realtime_Multi-Person_Pose_Estimation/sample_images/*\n",
    "!rm keras_Realtime_Multi-Person_Pose_Estimation/sample_jsons/*\n",
    "!rm keras_Realtime_Multi-Person_Pose_Estimation/sample_videos/*\n",
    "!rm hmr/output/bvh_animation/*\n",
    "!rm hmr/output/csv/*\n",
    "!rm hmr/output/csv_joined/*\n",
    "!rm hmr/output/images/*"
   ]
  },
  {
   "cell_type": "markdown",
   "metadata": {
    "colab_type": "text",
    "id": "4o7jqjHAW7pA"
   },
   "source": [
    "####Based on:\n",
    "\n",
    "\n",
    "1.   **End-to-end Recovery of Human Shape and Pose** by *Angjoo Kanazawa, Michael J. Black, David W. Jacobs, Jitendra Malik *\n",
    "https://github.com/akanazawa/hmr  \n",
    "\n",
    "  Corresponding fork by *Denis Cera*: https://github.com/Dene33/hmr\n",
    "\n",
    "2.   **Realtime Multi-Person 2D Pose Estimation using Part Affinity Fields** by *Zhe Cao, Tomas Simon, Shih-En Wei, Yaser Sheikh* \\\n",
    "Keras implementation by *Michal Faber*: https://github.com/michalfaber/keras_Realtime_Multi-Person_Pose_Estimation\n",
    "\n",
    "  Corresponding fork by *Denis Cera*: https://github.com/Dene33/keras_Realtime_Multi-Person_Pose_Estimation\n",
    "\n",
    "\n"
   ]
  }
 ],
 "metadata": {
  "accelerator": "GPU",
  "colab": {
   "collapsed_sections": [],
   "name": "video_to_bvh.ipynb",
   "provenance": [],
   "toc_visible": true,
   "version": "0.3.2"
  },
  "kernelspec": {
   "display_name": "Python 3",
   "language": "python",
   "name": "python3"
  },
  "language_info": {
   "codemirror_mode": {
    "name": "ipython",
    "version": 3
   },
   "file_extension": ".py",
   "mimetype": "text/x-python",
   "name": "python",
   "nbconvert_exporter": "python",
   "pygments_lexer": "ipython3",
   "version": "3.6.7"
  }
 },
 "nbformat": 4,
 "nbformat_minor": 1
}
